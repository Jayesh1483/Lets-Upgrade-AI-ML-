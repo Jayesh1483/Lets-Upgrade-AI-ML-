{
 "cells": [
  {
   "cell_type": "code",
   "execution_count": 1,
   "metadata": {},
   "outputs": [
    {
     "name": "stdout",
     "output_type": "stream",
     "text": [
      "substraction of two metrics is  (-3+1j)\n"
     ]
    }
   ],
   "source": [
    "#Question : Write a program to subtract two complex numbers in Python.\n",
    "#Here we're taking two complex numbers  Complexno1 and Complexno2 to setup our example :\n",
    "complexno1 = 5+6j\n",
    "complexno2 = 8+5j \n",
    "print(\"substraction of two metrics is =  \", complexno1 - complexno2)"
   ]
  },
  {
   "cell_type": "code",
   "execution_count": 2,
   "metadata": {},
   "outputs": [
    {
     "name": "stdout",
     "output_type": "stream",
     "text": [
      "Fourth root of the number is  = 1.4142135623730951\n"
     ]
    }
   ],
   "source": [
    "#Write a program to find the fourth root of a number.\n",
    "#Here we're taking a number x and to find the fourth root of we're going to assign it to the power of 0.25 or 1/4.\n",
    "x = 4 # Taking x as 4\n",
    "print (\"Fourth root of the number is  =\", x**0.25)"
   ]
  },
  {
   "cell_type": "code",
   "execution_count": 4,
   "metadata": {},
   "outputs": [
    {
     "name": "stdout",
     "output_type": "stream",
     "text": [
      "The two numbers before swap are :\n",
      "Number 1 : 7\n",
      "Number 2 : 24\n",
      "The two numbers after swap are:\n",
      "Number 1 : 24\n",
      "Number 2 : 7\n"
     ]
    }
   ],
   "source": [
    "#Write a program to swap two numbers in Python with the help of a temporary variable.\n",
    "# Here we're taking three variables x,y,z to swap the numbers\n",
    "x = 7\n",
    "y =24\n",
    "print(\"The two numbers before swap are :\")\n",
    "print(\"Number 1 :\", x)\n",
    "print (\"Number 2 :\", y)\n",
    "z = x\n",
    "x = y \n",
    "y = z\n",
    "print(\"The two numbers after swap are:\")\n",
    "print(\"Number 1 :\", x)\n",
    "print (\"Number 2 :\", y)"
   ]
  },
  {
   "cell_type": "code",
   "execution_count": 10,
   "metadata": {},
   "outputs": [
    {
     "name": "stdout",
     "output_type": "stream",
     "text": [
      "The two numbers before swap are :\n",
      "Number 1 : 7\n",
      "Number 2 : 24\n",
      "The two numbers after swap are:\n",
      "Number 1 : 24\n",
      "Number 2 : 7\n"
     ]
    }
   ],
   "source": [
    "#Write a program to swap two numbers in Python without using a temporary variable.\n",
    "#Here we're taking three variables x,y and to swap the numbers we will use addition and substraction operators.\n",
    "x = 7\n",
    "y =24\n",
    "print(\"The two numbers before swap are :\")\n",
    "print(\"Number 1 :\", x)\n",
    "print (\"Number 2 :\", y)\n",
    "x = x+y \n",
    "y = x-y\n",
    "x= x-y\n",
    "print(\"The two numbers after swap are:\")\n",
    "print(\"Number 1 :\", x)\n",
    "print (\"Number 2 :\", y)\n"
   ]
  },
  {
   "cell_type": "code",
   "execution_count": 16,
   "metadata": {},
   "outputs": [
    {
     "name": "stdout",
     "output_type": "stream",
     "text": [
      "Temp in Fahrenheit : 72\n",
      "Temp in Kelvin : 295.3722222222222\n",
      "Temp in Celsius : 22.22222222222222\n"
     ]
    }
   ],
   "source": [
    "#Write a program to convert Fahrenheit to kelvin and celsius both.\n",
    "# To convert the fahrenheit to kelvin and celsius we're going to a random value of fahrenheit like 72 and \n",
    "#convert them using the formulae\n",
    "Fahrenheit = 72\n",
    "Kelvin = ((Fahrenheit -32)* 5/9)+273.15\n",
    "Celsius = (Fahrenheit -32)* 5/9\n",
    "print(\"Temp in Fahrenheit :\", Fahrenheit)\n",
    "print(\"Temp in Kelvin :\",Kelvin)\n",
    "print(\"Temp in Celsius :\",Celsius)"
   ]
  },
  {
   "cell_type": "code",
   "execution_count": 22,
   "metadata": {},
   "outputs": [
    {
     "name": "stdout",
     "output_type": "stream",
     "text": [
      "Type of a : <class 'int'>\n",
      "Type of b : <class 'float'>\n",
      "Type of c : <class 'complex'>\n"
     ]
    }
   ],
   "source": [
    "#Write a program to demonstrate all the available data types in Python. Hint: Use type() function.\n",
    "# To demonstrate all the data types in python we will create a function type()\n",
    "a=5 \n",
    "print(\"Type of a :\",type(a))\n",
    "b=6.5\n",
    "print(\"Type of b :\",type(b))\n",
    "c= 4+6j\n",
    "print(\"Type of c :\",type(c))\n"
   ]
  },
  {
   "cell_type": "code",
   "execution_count": null,
   "metadata": {},
   "outputs": [],
   "source": []
  }
 ],
 "metadata": {
  "kernelspec": {
   "display_name": "Python 3",
   "language": "python",
   "name": "python3"
  },
  "language_info": {
   "codemirror_mode": {
    "name": "ipython",
    "version": 3
   },
   "file_extension": ".py",
   "mimetype": "text/x-python",
   "name": "python",
   "nbconvert_exporter": "python",
   "pygments_lexer": "ipython3",
   "version": "3.8.3"
  }
 },
 "nbformat": 4,
 "nbformat_minor": 4
}
