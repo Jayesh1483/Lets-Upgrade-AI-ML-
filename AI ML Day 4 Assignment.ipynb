{
 "cells": [
  {
   "cell_type": "code",
   "execution_count": 6,
   "metadata": {},
   "outputs": [
    {
     "name": "stdout",
     "output_type": "stream",
     "text": [
      "Addition of complex numbers:  (11+11j)\n",
      "Substraction of complex numbers:  (1-5j)\n",
      "Multiplication of complex numbers:  (6+63j)\n",
      "Division of complex numbers:  (0.6067415730337079-0.3707865168539326j)\n"
     ]
    }
   ],
   "source": [
    "#Research on whether addition, subtraction, multiplication, division, floor division, and modulo operations\n",
    "#be performed on complex numbers. Based on your study, implement a Python program to demonstrate these operations.\n",
    "# Here we're going to take two complex numbers stores in x and y and we can demonstrate these operations except modulo and floor division as they are not supportable in python3.\n",
    "x = 6+3j \n",
    "y = 5+8j\n",
    "print(\"Addition of complex numbers: \",x+y)\n",
    "print(\"Substraction of complex numbers: \",x-y)\n",
    "print(\"Multiplication of complex numbers: \",x*y)\n",
    "print(\"Division of complex numbers: \",x/y)\n",
    "# Not supportable operation in python3 (print(\"Floor Division of complex numbers: \",x//y))\n",
    "#Not supportable operation in python3 (print(\"Modulo of complex numbers: \",x%y))"
   ]
  },
  {
   "cell_type": "code",
   "execution_count": 14,
   "metadata": {},
   "outputs": [
    {
     "name": "stdout",
     "output_type": "stream",
     "text": [
      "2\n",
      "4\n",
      "6\n"
     ]
    }
   ],
   "source": [
    "#Research on range() functions and its parameters. Create a markdown cell and write in your own words\n",
    "#(no copy-paste from google please) what you understand about it. Implement a small program of your\n",
    "#choice on the same.\n",
    "# Range function is basically used for loop function to shread down the method in a simple and small function. You can provide a start stop and step in it.\n",
    "x = range(2,8,2)\n",
    "for n in x:\n",
    "    print(n)"
   ]
  },
  {
   "cell_type": "code",
   "execution_count": 18,
   "metadata": {},
   "outputs": [
    {
     "name": "stdout",
     "output_type": "stream",
     "text": [
      "Multiplication of x and y:  2848\n"
     ]
    }
   ],
   "source": [
    "#Consider two numbers. Perform their subtraction and if the result of subtraction is greater than 25, print\n",
    "#their multiplication result else print their division result.\n",
    "# Here we're taking two variables x=89, y=32 and going to perform the operation using it.\n",
    "x =89\n",
    "y = 32\n",
    "if x-y > 25:\n",
    "    print(\"Multiplication of x and y: \", x*y)\n",
    "else:\n",
    "      print(\"Division of x and y: \", x/y) \n"
   ]
  },
  {
   "cell_type": "code",
   "execution_count": 39,
   "metadata": {},
   "outputs": [
    {
     "name": "stdout",
     "output_type": "stream",
     "text": [
      "Square of that number minus 2 : 14\n",
      "Square of that number minus 2 : 482\n",
      "Square of that number minus 2 : 2\n",
      "Square of that number minus 2 : 34\n",
      "Square of that number minus 2 : 62\n"
     ]
    }
   ],
   "source": [
    "#Consider a list of 10 elements of integer values. If the number in the list is divisible by 2, print the result as\n",
    "#\"square of that number minus 2\".\n",
    "# We have considered a list of 10 elements and going to perform the function using if operator\n",
    "list = [1,4,7,22,3,2,6,5,8,9]\n",
    "for n in range (0,10):\n",
    "    if list[n]%2 == 0:\n",
    "        print(\"Square of that number minus 2 :\" ,(list[n]**2) - 2)\n"
   ]
  },
  {
   "cell_type": "code",
   "execution_count": 52,
   "metadata": {},
   "outputs": [
    {
     "name": "stdout",
     "output_type": "stream",
     "text": [
      "Number greater than 7 and divisble by 2 : 22\n",
      "Number greater than 7 and divisble by 2 : 8\n"
     ]
    }
   ],
   "source": [
    "#Consider a list of 10 elements. Print all the elements in the list which are greater than 7 when that number\n",
    "#is divided 2.\n",
    "list = [1,4,7,22,3,2,6,5,8,9]\n",
    "for n in range (0,10,1):\n",
    "    if list[n]>7:\n",
    "        if list[n] %2 ==0:\n",
    "            print(\"Number greater than 7 and divisble by 2 :\",list[n])"
   ]
  },
  {
   "cell_type": "code",
   "execution_count": null,
   "metadata": {},
   "outputs": [],
   "source": []
  }
 ],
 "metadata": {
  "kernelspec": {
   "display_name": "Python 3",
   "language": "python",
   "name": "python3"
  },
  "language_info": {
   "codemirror_mode": {
    "name": "ipython",
    "version": 3
   },
   "file_extension": ".py",
   "mimetype": "text/x-python",
   "name": "python",
   "nbconvert_exporter": "python",
   "pygments_lexer": "ipython3",
   "version": "3.8.3"
  }
 },
 "nbformat": 4,
 "nbformat_minor": 4
}
